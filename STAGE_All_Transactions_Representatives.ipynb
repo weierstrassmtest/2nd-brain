{
  "nbformat": 4,
  "nbformat_minor": 0,
  "metadata": {
    "colab": {
      "name": "STAGE - All Transactions - Representatives.ipynb",
      "provenance": [],
      "collapsed_sections": [],
      "authorship_tag": "ABX9TyN/ubDtWlqnNaViNEq9JNhR",
      "include_colab_link": true
    },
    "kernelspec": {
      "name": "python3",
      "display_name": "Python 3"
    },
    "language_info": {
      "name": "python"
    }
  },
  "cells": [
    {
      "cell_type": "markdown",
      "metadata": {
        "id": "view-in-github",
        "colab_type": "text"
      },
      "source": [
        "<a href=\"https://colab.research.google.com/github/weierstrassmtest/2nd-brain/blob/main/STAGE_All_Transactions_Representatives.ipynb\" target=\"_parent\"><img src=\"https://colab.research.google.com/assets/colab-badge.svg\" alt=\"Open In Colab\"/></a>"
      ]
    },
    {
      "cell_type": "markdown",
      "source": [
        "# INITIALIZATION"
      ],
      "metadata": {
        "id": "O5IJlAvSf0uV"
      }
    },
    {
      "cell_type": "code",
      "execution_count": null,
      "metadata": {
        "colab": {
          "base_uri": "https://localhost:8080/"
        },
        "id": "XUzc0da0ZqON",
        "outputId": "95ac731b-47b1-4e7a-c3f9-0f7e6d002ffb"
      },
      "outputs": [
        {
          "output_type": "stream",
          "name": "stdout",
          "text": [
            "Mounted at /content/drive\n"
          ]
        }
      ],
      "source": [
        "import pandas as pd\n",
        "import numpy as np\n",
        "import os, shutil\n",
        "from datetime import datetime\n",
        "\n",
        "from google.colab import drive\n",
        "drive.mount('/content/drive')"
      ]
    },
    {
      "cell_type": "code",
      "source": [
        "src_dir = \"/content/drive/MyDrive/Projects/00 - Data Drop/House & Senate Stock Tracking/\"\n",
        "\n",
        "tgt_dir_hist = \"/content/drive/MyDrive/Projects/01 - Data Staging/House & Senate Stock Tracking/All Transactions - Representatives/historical/\"\n",
        "tgt_dir_tost = \"/content/drive/MyDrive/Projects/01 - Data Staging/House & Senate Stock Tracking/All Transactions - Representatives/top-of-stack/\""
      ],
      "metadata": {
        "id": "4GsSlqkafpdF"
      },
      "execution_count": null,
      "outputs": []
    },
    {
      "cell_type": "markdown",
      "source": [
        "# SCRIPT"
      ],
      "metadata": {
        "id": "9izRvtKJf5iB"
      }
    },
    {
      "cell_type": "markdown",
      "source": [
        "## Read Input Data"
      ],
      "metadata": {
        "id": "A-MSbY_jgAsN"
      }
    },
    {
      "cell_type": "code",
      "source": [
        "house_raw = pd.read_json(\"https://house-stock-watcher-data.s3-us-west-2.amazonaws.com/data/all_transactions.json\")\n",
        "\n",
        "date_string = datetime.today().strftime('%Y-%m-%d')"
      ],
      "metadata": {
        "id": "IPgtiPCafuY8"
      },
      "execution_count": null,
      "outputs": []
    },
    {
      "cell_type": "markdown",
      "source": [
        "## Save Copy of Raw Data to Appropriate Historical Folder"
      ],
      "metadata": {
        "id": "L3BY2ee6gEa8"
      }
    },
    {
      "cell_type": "code",
      "source": [
        "house_raw.to_csv(tgt_dir_hist + \"all_transactions_house_\" + date_string + \".csv\",index=False)"
      ],
      "metadata": {
        "id": "8iMhUik3gCqp"
      },
      "execution_count": null,
      "outputs": []
    },
    {
      "cell_type": "markdown",
      "source": [
        "## Delete All Files in Appropriate Top of Stack Directory"
      ],
      "metadata": {
        "id": "Ea2a3OgmgU3C"
      }
    },
    {
      "cell_type": "code",
      "source": [
        " # DELETE ALL FILES IN THE TOP-OF-STACK DIRECTORY\n",
        "\n",
        "for filename in os.listdir(tgt_dir_tost):\n",
        "    file_path = os.path.join(tgt_dir_tost, filename)\n",
        "    try:\n",
        "        if os.path.isfile(file_path) or os.path.islink(file_path):\n",
        "            os.unlink(file_path)\n",
        "        elif os.path.isdir(file_path):\n",
        "            shutil.rmtree(file_path)\n",
        "    except Exception as e:\n",
        "        print('Failed to delete %s. Reason: %s' % (file_path, e))"
      ],
      "metadata": {
        "id": "s2u9KaqsgVUB"
      },
      "execution_count": null,
      "outputs": []
    },
    {
      "cell_type": "markdown",
      "source": [
        "## Save Copy of Raw Data to Appropriate Top of Stack Folder"
      ],
      "metadata": {
        "id": "_yTOUCoxgXUW"
      }
    },
    {
      "cell_type": "code",
      "source": [
        "house_raw.to_csv(tgt_dir_tost + \"all_transactions_house_\" + date_string + \".csv\",index=False)"
      ],
      "metadata": {
        "id": "xmmMpOHYgZwY"
      },
      "execution_count": null,
      "outputs": []
    }
  ]
}